{
 "cells": [
  {
   "cell_type": "code",
   "execution_count": null,
   "metadata": {},
   "outputs": [],
   "source": [
    "import decimal\n",
    "\n",
    "def fermat(n):\n",
    "    decimal.getcontext().prec = 400\n",
    "    a = int(decimal.Decimal(n).sqrt()) + 1\n",
    "    \n",
    "    while True:\n",
    "        b1= a * a - n\n",
    "        b - negyzetTeszt(b1)\n",
    "        if b != -1: return (a - b, a + b)\n",
    "        a +=1\n",
    "        \n",
    "def negyzetTeszt(x):\n",
    "    i = int(decimal.Decimal(x).sqrt())\n",
    "    if i * i == x: return i\n",
    "    else: return -1\n",
    "    \n",
    "def fel1():\n",
    "    p = [60886398661138796801453, 18330506023168856466071, 9025708713908783760873431]\n",
    "    for nr in P:\n",
    "        print(fermat(nr))\n",
    "    \n",
    "def primeGen(k = 12):\n",
    "     while True:\n",
    "         nr = random.randint(power(10, k-1), pow(10,k)-1)\n",
    "         if sympy.isprime(nr):\n",
    "             return nr\n",
    "\n",
    "def fel1Vizsgalat():\n",
    "    p = primeGen()\n",
    "    q = primeGen()\n",
    "    nr = p*q\n",
    "    print(fermat(nr))\n",
    "               \n",
    "fel1()"
   ]
  }
 ],
 "metadata": {
  "kernelspec": {
   "display_name": "usr",
   "language": "python",
   "name": "python3"
  },
  "language_info": {
   "name": "python",
   "version": "3.12.6"
  }
 },
 "nbformat": 4,
 "nbformat_minor": 2
}
