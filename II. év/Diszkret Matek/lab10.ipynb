{
 "cells": [
  {
   "cell_type": "code",
   "execution_count": null,
   "metadata": {},
   "outputs": [],
   "source": [
    "from base64 import b64encode, b64decode\n",
    "from random import randint, getrandbits\n",
    "from sympy import isprime\n",
    "\n",
    "def primeGen(k):\n",
    "    while True:\n",
    "        p = getrandbits(k)\n",
    "        if p & 1 == 0:\n",
    "            p += 1\n",
    "        if isprime(p):\n",
    "            return p\n",
    "        \n",
    "def RSA_publicKeyRead(filename='RSA_publicKey.txt'):\n",
    "    with open(filename, 'r') as f:\n",
    "        eStr = f.readline()\n",
    "        nStr = f.readline()\n",
    "        e = int.from_Base64(eStr)\n",
    "        n = int.from_Base64(nStr)\n",
    "        \n",
    "        return e, n\n",
    "    \n",
    "def RSA_keygen(k = 1024):\n",
    "    p = primeGen(k)\n",
    "    q = primeGen(k)\n",
    "    \n",
    "    n = p*q\n",
    "    e = 65537\n",
    "    \n",
    "    d = pow(e, -1, (p-1)*(q-1))\n",
    "    return p, q, n, e, d\n",
    "\n",
    "def RSA_encrypt(filename = 'keypub64.txt'):\n",
    "    e, n = RSA_publicKeyRead(filename)\n",
    "    strK = input('Message:')\n",
    "    K = int.from_bytes(strK.encode(), byteorder='little')\n",
    "    cK = pow(K, e, n)\n",
    "    ckLen = cK.bit_length() // 8 +1\n",
    "    cbytes = cK.to_bytes(length = ckLen, byteorder='little')\n",
    "    return cbytes, len(strK)\n",
    "\n",
    "def RSA_decrypt(cbytes, ckLen, filename = 'keypriv64.txt'):\n",
    "    d, p, q = RSA_privateKeyRead(filename)\n",
    "    n = p*q\n",
    "    cK = int.from_bytes(cbytes, byteorder='little')\n",
    "    K1 = pow(cK, d, n)\n",
    "    message = K1.to_bytes(ckLen, byteorder='little')\n",
    "    print(\"Decoded message: \", message.decode)\n",
    "    "
   ]
  }
 ],
 "metadata": {
  "kernelspec": {
   "display_name": "usr",
   "language": "python",
   "name": "python3"
  },
  "language_info": {
   "name": "python",
   "version": "3.12.6"
  }
 },
 "nbformat": 4,
 "nbformat_minor": 2
}
