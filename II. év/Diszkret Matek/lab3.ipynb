{
 "cells": [
  {
   "cell_type": "code",
   "execution_count": 1,
   "metadata": {},
   "outputs": [
    {
     "name": "stdout",
     "output_type": "stream",
     "text": [
      "(1, -3, 1)\n"
     ]
    }
   ],
   "source": [
    "import math\n",
    "\n",
    "def lnko(num1, num2):\n",
    "    counter = 0\n",
    "    while num2 != 0:\n",
    "        counter += 1\n",
    "        num1, num2 = num2, num1 % num2\n",
    "    return num1, counter\n",
    "\n",
    "def szamjegyekSzama(n):\n",
    "    counter = 0\n",
    "    while n > 0:\n",
    "        n //= 10\n",
    "        counter += 1\n",
    "        \n",
    "def szamjegyekSzama2(n):\n",
    "    szam = int(math.log10(n) + 1)\n",
    "    return szam\n",
    "\n",
    "def fajlOlvasas():\n",
    "    with open(\"./lab3/szamok.txt\") as file:\n",
    "        temp = file.read()\n",
    "\n",
    "    temp = temp.split('\\n')\n",
    "    for e in temp:\n",
    "        e1, e2 = e.split()\n",
    "        e1 = int(e1)\n",
    "        e2 = int(e2)\n",
    "        lko, osztSzam = lnko(e1, e2)\n",
    "        legkisebb = min(e1, e2)\n",
    "        result = szamjegyekSzama2(legkisebb)\n",
    "        print(osztSzam, result)\n",
    "\n",
    "def extEuclid(a,b):\n",
    "    x1, y1, x2, y2 = 1, 0, 0, 1\n",
    "    while True:\n",
    "        temp = a%b\n",
    "        if temp == 0 : \n",
    "            return b, x1, y1\n",
    "        q = a // b\n",
    "        a = b\n",
    "        b = temp\n",
    "        \n",
    "        x = x1 - q * x2\n",
    "        y = y1 - q * y2\n",
    "        \n",
    "        x1, y1, x2, y2 = x2, y2, x, y\n",
    "        \n",
    "def diofant1():\n",
    "    a, b, c = 19, 59, 1706\n",
    "    d, xk, yk = extEuclid(19, 59)\n",
    "    x = xk * c // d\n",
    "    y = yk * c // d\n",
    "    \n",
    "    e1 = x/(b//d)\n",
    "    e2 = y/(a//d)\n",
    "    \n",
    "    \n",
    "\n",
    "def main():\n",
    "    #lnko(34, 21)\n",
    "    \"\"\"while True:\n",
    "        temp = input('Két számot kérek: ')\n",
    "        if not temp: break\n",
    "        temp = temp.split()\n",
    "        a, b = int(temp[0]), int(temp[1])\n",
    "        e1, e2 = lnko(a, b)\n",
    "        print(f'Legnagyobb közös osztó: {e1}\\nOsztások száma: {e2}')\"\"\"\n",
    "    \n",
    "    #fajlOlvasas()\n",
    "    print(extEuclid(19, 59))\n",
    "        \n",
    "    \n",
    "main()"
   ]
  }
 ],
 "metadata": {
  "kernelspec": {
   "display_name": "Python 3",
   "language": "python",
   "name": "python3"
  },
  "language_info": {
   "codemirror_mode": {
    "name": "ipython",
    "version": 3
   },
   "file_extension": ".py",
   "mimetype": "text/x-python",
   "name": "python",
   "nbconvert_exporter": "python",
   "pygments_lexer": "ipython3",
   "version": "3.12.7"
  }
 },
 "nbformat": 4,
 "nbformat_minor": 2
}
