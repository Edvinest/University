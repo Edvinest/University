{
 "cells": [
  {
   "cell_type": "code",
   "execution_count": null,
   "metadata": {},
   "outputs": [
    {
     "data": {
      "text/latex": [
       "$\\displaystyle -1$"
      ],
      "text/plain": [
       "-1"
      ]
     },
     "execution_count": 2,
     "metadata": {},
     "output_type": "execute_result"
    }
   ],
   "source": [
    "import sympy\n",
    "import math\n",
    "\n",
    "#1. feladat\n",
    "\n",
    "sympy.sign(-510) #előjel: 1 pozitív, -1 negatív\n",
    "\n",
    "def osszeg(x, y):\n",
    "    return x+y\n",
    "\n",
    "def kulonbseg(x, y):\n",
    "    return x-y;\n",
    "\n",
    "def szorzat(x, y):\n",
    "    return x*y\n",
    "\n",
    "def hanyados(x, y):\n",
    "    return x//y\n",
    "\n",
    "def osztMaradek(x,y):\n",
    "    return x%y\n",
    "\n",
    "def max(x,y):\n",
    "    if x > y: return x\n",
    "    elif(x < y): return y\n",
    "    else: return \"The numbers are equal\"\n",
    "    \n",
    "def min(x, y):\n",
    "    if x < y: return x\n",
    "    elif(x > y): return y;\n",
    "    else: return \"The numbers are equal\"\n",
    "\n",
    "def egyenlet(a,b):\n",
    "    if a != 0: return -b/a\n",
    "    else: return \"0-val való osztás\"\n",
    "    \n",
    "def mEgyenlet(a, b, c):\n",
    "    if a==0: return egyenlet(b,c)\n",
    "    delta = b*b - 4*a*c\n",
    "    if delta < 0: return \"Komplex gyökök\"\n",
    "    if delta >= 0:\n",
    "        gy1 = (-b + math.sqrt(delta)) / (2*a)\n",
    "        gy2 = (-b - math.sqrt(delta)) / (2*a)\n",
    "        \n",
    "        return (gy1, gy2)\n",
    "    \n",
    "def myFloor(a):\n",
    "    if a >= 0: return int(a)\n",
    "    else:\n",
    "        b = int(a)\n",
    "        if float(b) == a: return b\n",
    "        else: return b-1\n",
    "        \n",
    "def myTop(a):\n",
    "    if a == int(a): return int(a)\n",
    "    elif x > 0: return int(a)\n",
    "    else: int(a) - 1\n",
    "    \n",
    "def neededByte():\n",
    "    data = int(input(\"Adj meg n bitnyi információt: \"))\n",
    "    needed_bytes = math.ceil(data/8)\n",
    "    print(f\"{data} bitnyi információhoz {needed_bytes} bájt kell\")\n",
    "\n",
    "def myAbs(x):\n",
    "    if x < 0: return -x\n",
    "    return x"
   ]
  },
  {
   "cell_type": "code",
   "execution_count": null,
   "metadata": {},
   "outputs": [],
   "source": [
    "#2.\n",
    "\n",
    "# Beolvasás\n",
    "n = int(input(\"Add meg az n értékét: \"))\n",
    "    \n",
    "# 1. Generáljuk ki n-ig a természetes számokat\n",
    "natural_numbers = list(range(1, n + 1))\n",
    "print(f\"Természetes számok 1-től {n}-ig: {natural_numbers}\")\n",
    "    \n",
    "# 2. Generáljuk ki n-ig a páros számokat\n",
    "even_numbers = [x for x in range(2, n + 1, 2)]\n",
    "print(f\"Páros számok 1-től {n}-ig: {even_numbers}\")\n",
    "    \n",
    "# Generáljunk n darab páros számot\n",
    "n_even_numbers = [2 * i for i in range(1, n + 1)]\n",
    "print(f\"{n} darab páros szám: {n_even_numbers}\")\n",
    "    \n",
    "# 3. Generáljuk ki n-ig a páratlan számokat\n",
    "odd_numbers = [x for x in range(1, n + 1, 2)]\n",
    "print(f\"Páratlan számok 1-től {n}-ig: {odd_numbers}\")\n",
    "    \n",
    "# Generáljunk n darab páratlan számot\n",
    "n_odd_numbers = [2 * i - 1 for i in range(1, n + 1)]\n",
    "print(f\"{n} darab páratlan szám: {n_odd_numbers}\")\n",
    "    \n",
    "# 4. Generáljuk ki n-ig a négyzetszámokat\n",
    "square_numbers = [x**2 for x in range(1, int(n**0.5) + 1)]\n",
    "print(f\"Négyzetszámok 1-től {n}-ig: {square_numbers}\")\n",
    "    \n",
    "# Generáljunk n darab négyzetszámot\n",
    "n_square_numbers = [x**2 for x in range(1, n + 1)]\n",
    "print(f\"{n} darab négyzetszám: {n_square_numbers}\")\n",
    "    \n",
    "# 5. Határozzuk meg az első n szám összegét\n",
    "sum_n_numbers = sum(range(1, n + 1))\n",
    "print(f\"Az első {n} szám összege: {sum_n_numbers}\")\n",
    "    \n",
    "# 6. Határozzuk meg az első n szám szorzatát\n",
    "product_n_numbers = 1\n",
    "for x in range(1, n + 1):\n",
    "    product_n_numbers *= x\n",
    "print(f\"Az első {n} szám szorzata: {product_n_numbers}\")"
   ]
  },
  {
   "cell_type": "code",
   "execution_count": 1,
   "metadata": {},
   "outputs": [],
   "source": [
    "# 3. feladat\n",
    "\n",
    "#2 hatványai az első n hatványkitevő esetében\n",
    "powers_of_2 = [2**i for i in range(n)]\n",
    "print(f\"2 hatványai az első {n} hatványkitevőre: {powers_of_2}\")"
   ]
  },
  {
   "cell_type": "code",
   "execution_count": null,
   "metadata": {},
   "outputs": [],
   "source": [
    "# 4. feladat\n",
    "\n",
    "# Olvassuk be x értékét a billentyűzetről\n",
    "x = int(input(\"Add meg az x értékét: \"))\n",
    "    \n",
    "# x hatványai az első n hatványkitevő esetében\n",
    "powers_of_x = [x**i for i in range(n)]\n",
    "print(f\"{x} hatványai az első {n} hatványkitevőre: {powers_of_x}\")"
   ]
  },
  {
   "cell_type": "code",
   "execution_count": null,
   "metadata": {},
   "outputs": [],
   "source": [
    "# 5. feladat\n",
    "\n",
    "# Határozzuk meg a beolvasott n szám mindegyikének a négyzetgyökét.\n",
    "\n",
    "numbers = input(\"Add meg a számokat vesszővel elválasztva: \")\n",
    "numbers = list(map(float, numbers.split(',')))  # A számok listája\n",
    "\n",
    "# Négyzetgyökök kiszámítása\n",
    "square_roots = [math.sqrt(num) for num in numbers]\n",
    "\n",
    "# Eredmények kiírása\n",
    "print(\"A négyzetgyökök:\")\n",
    "for num, root in zip(numbers, square_roots):\n",
    "    print(f\"A {num} szám négyzetgyöke: {root:.4f}\")"
   ]
  },
  {
   "cell_type": "code",
   "execution_count": null,
   "metadata": {},
   "outputs": [],
   "source": [
    "# 6. feladat\n",
    "\n",
    "# Határozzuk meg, hogy a beolvasott n szám közül melyik a legnagyobb.\n",
    "numbers = input(\"Add meg a számokat vesszővel elválasztva: \")\n",
    "numbers = list(map(float, numbers.split(',')))  # A számok listája\n",
    "\n",
    "# Legnagyobb szám meghatározása\n",
    "max_number = max(numbers)\n",
    "\n",
    "# Eredmény kiírása\n",
    "print(f\"A legnagyobb szám: {max_number:.4f}\")"
   ]
  },
  {
   "cell_type": "code",
   "execution_count": null,
   "metadata": {},
   "outputs": [],
   "source": [
    "# 7. feladat\n",
    "\n",
    "# Határozzuk meg a beolvasott n szám közül a legnagyobb sorszámát.\n",
    "\n",
    "numbers = input(\"Add meg a számokat vesszővel elválasztva: \")\n",
    "numbers = list(map(float, numbers.split(',')))  # A számok listája\n",
    "\n",
    "# Legnagyobb szám és index meghatározása\n",
    "max_number = max(numbers)\n",
    "max_index = numbers.index(max_number) + 1  # +1 a természetes sorszámhoz\n",
    "\n",
    "# Eredmény kiírása\n",
    "print(f\"A legnagyobb szám: {max_number:.4f}, sorszáma: {max_index}\")"
   ]
  },
  {
   "cell_type": "code",
   "execution_count": null,
   "metadata": {},
   "outputs": [],
   "source": [
    "# 8. feladat\n",
    "\n",
    "# Határozzuk meg a beolvasott n szám összegét.\n",
    "\n",
    "numbers = input(\"Add meg a számokat vesszővel elválasztva: \")\n",
    "numbers = list(map(float, numbers.split(',')))  # A számok listája\n",
    "\n",
    "# Összeg meghatározása\n",
    "total_sum = sum(numbers)\n",
    "\n",
    "# Eredmény kiírása\n",
    "print(f\"A számok összege: {total_sum:.4f}\")"
   ]
  },
  {
   "cell_type": "code",
   "execution_count": null,
   "metadata": {},
   "outputs": [],
   "source": [
    "# 9. feladat\n",
    "\n",
    "# Határozzuk meg a beolvasott n szám szorzatát.\n",
    "\n",
    "numbers = input(\"Add meg a számokat vesszővel elválasztva: \")\n",
    "numbers = list(map(float, numbers.split(',')))\n",
    "\n",
    "total_product = 1\n",
    "for num in numbers:\n",
    "    total_product *= num\n",
    "\n",
    "print(f\"A számok szorzata: {total_product:.4f}\")"
   ]
  },
  {
   "cell_type": "code",
   "execution_count": null,
   "metadata": {},
   "outputs": [],
   "source": [
    "# 10. feladat\n",
    "\n",
    "# Határozzuk meg hány nullás számjegy van n! végén, anélkül,\n",
    "# hogy meghatároznánk n! értékét. Pl. hány nullás van 1000! végén. \n",
    "\n",
    "def trailing_zeros_factorial(n):\n",
    "    count = 0\n",
    "    power_of_5 = 5\n",
    "    while n >= power_of_5:\n",
    "        count += n // power_of_5\n",
    "        power_of_5 *= 5\n",
    "    return count\n",
    "\n",
    "# Példa használat\n",
    "n = 1000\n",
    "print(f\"{n}! végén {trailing_zeros_factorial(n)} nullás számjegy található.\")   "
   ]
  }
 ],
 "metadata": {
  "kernelspec": {
   "display_name": "usr",
   "language": "python",
   "name": "python3"
  },
  "language_info": {
   "codemirror_mode": {
    "name": "ipython",
    "version": 3
   },
   "file_extension": ".py",
   "mimetype": "text/x-python",
   "name": "python",
   "nbconvert_exporter": "python",
   "pygments_lexer": "ipython3",
   "version": "3.13.0"
  }
 },
 "nbformat": 4,
 "nbformat_minor": 2
}
