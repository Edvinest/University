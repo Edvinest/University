{
 "cells": [
  {
   "cell_type": "code",
   "execution_count": null,
   "metadata": {},
   "outputs": [
    {
     "data": {
      "text/latex": [
       "$\\displaystyle -1$"
      ],
      "text/plain": [
       "-1"
      ]
     },
     "execution_count": 2,
     "metadata": {},
     "output_type": "execute_result"
    }
   ],
   "source": [
    "import sympy\n",
    "import math\n",
    "\n",
    "#1. feladat\n",
    "\n",
    "sympy.sign(-510) #előjel: 1 pozitív, -1 negatív\n",
    "\n",
    "def osszeg(x, y):\n",
    "    return x+y\n",
    "\n",
    "def kulonbseg(x, y):\n",
    "    return x-y;\n",
    "\n",
    "def szorzat(x, y):\n",
    "    return x*y\n",
    "\n",
    "def hanyados(x, y):\n",
    "    return x//y\n",
    "\n",
    "def osztMaradek(x,y):\n",
    "    return x%y\n",
    "\n",
    "def max(x,y):\n",
    "    if x > y: return x\n",
    "    elif(x < y): return y\n",
    "    else: return \"The numbers are equal\"\n",
    "    \n",
    "def min(x, y):\n",
    "    if x < y: return x\n",
    "    elif(x > y): return y;\n",
    "    else: return \"The numbers are equal\"\n",
    "\n",
    "def egyenlet(a,b):\n",
    "    if a != 0: return -b/a\n",
    "    else: return \"0-val való osztás\"\n",
    "    \n",
    "def mEgyenlet(a, b, c):\n",
    "    if a==0: return egyenlet(b,c)\n",
    "    delta = b*b - 4*a*c\n",
    "    if delta < 0: return \"Komplex gyökök\"\n",
    "    if delta >= 0:\n",
    "        gy1 = (-b + math.sqrt(delta)) / (2*a)\n",
    "        gy2 = (-b - math.sqrt(delta)) / (2*a)\n",
    "        \n",
    "        return (gy1, gy2)\n",
    "    \n",
    "def myFloor(a):\n",
    "    if a >= 0: return int(a)\n",
    "    else:\n",
    "        b = int(a)\n",
    "        if float(b) == a: return b\n",
    "        else: return b-1\n",
    "        \n",
    "def myTop(a):\n",
    "    if a == int(a): return int(a)\n",
    "    elif x > 0: return int(a)\n",
    "    else: int(a) - 1\n",
    "    \n",
    "def neededByte():\n",
    "    data = int(input(\"Adj meg n bitnyi információt: \"))\n",
    "    needed_bytes = math.ceil(data/8)\n",
    "    print(f\"{data} bitnyi információhoz {needed_bytes} bájt kell\")\n",
    "\n",
    "def myAbs(x):\n",
    "    if x < 0: return -x\n",
    "    return x"
   ]
  },
  {
   "cell_type": "code",
   "execution_count": null,
   "metadata": {},
   "outputs": [],
   "source": [
    "#2."
   ]
  }
 ],
 "metadata": {
  "kernelspec": {
   "display_name": "Python 3",
   "language": "python",
   "name": "python3"
  },
  "language_info": {
   "codemirror_mode": {
    "name": "ipython",
    "version": 3
   },
   "file_extension": ".py",
   "mimetype": "text/x-python",
   "name": "python",
   "nbconvert_exporter": "python",
   "pygments_lexer": "ipython3",
   "version": "3.12.7"
  }
 },
 "nbformat": 4,
 "nbformat_minor": 2
}
