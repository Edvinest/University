{
 "cells": [
  {
   "cell_type": "code",
   "execution_count": 2,
   "metadata": {
    "colab": {
     "base_uri": "https://localhost:8080/"
    },
    "executionInfo": {
     "elapsed": 31,
     "status": "ok",
     "timestamp": 1741254628029,
     "user": {
      "displayName": "Bodi-Kolumbán Ágnes",
      "userId": "06403635088664998725"
     },
     "user_tz": -120
    },
    "id": "3zXD7Ja-gXar",
    "outputId": "2b9b837d-6275-4263-8939-74af029ff453"
   },
   "outputs": [
    {
     "name": "stdout",
     "output_type": "stream",
     "text": [
      "Csere előtt:[[0, 2, 1], [1, -2, -3], [-1, 1, 2]]\n",
      "A csere után:[[1, -2, -3], [0, 2, 1], [-1, 1, 2]]\n",
      "A háromszöges mátrix[[1, -2, -3], [0.0, 2.0, 1.0], [0.0, 0.0, -0.5]]\n",
      "Az új megoldások:[0, -8.0, -1.0]\n",
      "Mivel osztottunk:[[0, 0, 0], [0.0, 0, 0], [-1.0, -0.5, 0]]\n",
      "A megoldások:[-4.0, -5.0, 2.0]\n",
      "A mátrix determinánsa: 1.0\n"
     ]
    }
   ],
   "source": [
    "A=[[0,2, 1],[1, -2, -3],[-1, 1, 2]]\n",
    "B=[-8, 0, 3]\n",
    "l=[[0, 0, 0],[0, 0, 0],[0, 0, 0]]\n",
    "print(f\"Csere előtt:{A}\")\n",
    "\n",
    "#Sorcsere:\n",
    "csere=0\n",
    "for z in range(len(A)-1):\n",
    "  if(A[z][z]==0):\n",
    "    if(A[z+1][z]!=0):\n",
    "      for ch in range(len(A)):\n",
    "        A[z][ch],A[z+1][ch] =A[z+1][ch], A[z][ch]\n",
    "        B[z],B[z+1] = B[z+1], B[z]\n",
    "      csere=csere+1\n",
    "\n",
    "print(f\"A csere után:{A}\")\n",
    "\n",
    "for k in range (len(A)-1):\n",
    "  for i in range(k+1, len(A)):\n",
    "    l[i][k]=(A[i][k]/A[k][k])\n",
    "    B[i]=(B[i]-l[i][k]*B[k])\n",
    "    for j in range (k, len(A)):\n",
    "      A[i][j]=A[i][j]-l[i][k]*A[k][j]\n",
    "\n",
    "print(f\"A háromszöges mátrix{A}\")\n",
    "print(f\"Az új megoldások:{B}\")\n",
    "print(f\"Mivel osztottunk:{l}\")\n",
    "\n",
    "#visszahelyettesites\n",
    "\n",
    "X=[0,0,0]\n",
    "\n",
    "X[len(X)-1]=B[len(B)-1]/A[len(A)-1][len(A)-1]\n",
    "\n",
    "for i in range (len(A)-2, -1, -1):\n",
    "  s=0\n",
    "  for j in range(i+1, len(A)):\n",
    "    s=s+A[i][j]*X[j]\n",
    "  X[i]=((B[i]-s)/A[i][i])\n",
    "\n",
    "print(f\"A megoldások:{X}\")\n",
    "\n",
    "\n",
    "#determinans:\n",
    "if(csere%2==0):\n",
    "  sum=1\n",
    "else:\n",
    "  sum=-1\n",
    "for i in range(len(A)):\n",
    "  sum=sum*A[i][i]\n",
    "\n",
    "\n",
    "\n",
    "print(f\"A mátrix determinánsa: {sum}\")"
   ]
  }
 ],
 "metadata": {
  "colab": {
   "authorship_tag": "ABX9TyOAhhjb6OkJKef5kYe5bJhi",
   "provenance": []
  },
  "kernelspec": {
   "display_name": "Python 3",
   "language": "python",
   "name": "python3"
  },
  "language_info": {
   "codemirror_mode": {
    "name": "ipython",
    "version": 3
   },
   "file_extension": ".py",
   "mimetype": "text/x-python",
   "name": "python",
   "nbconvert_exporter": "python",
   "pygments_lexer": "ipython3",
   "version": "3.12.6"
  }
 },
 "nbformat": 4,
 "nbformat_minor": 0
}
