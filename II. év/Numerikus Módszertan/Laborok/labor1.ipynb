{
 "cells": [
  {
   "cell_type": "code",
   "execution_count": 43,
   "metadata": {},
   "outputs": [
    {
     "name": "stdout",
     "output_type": "stream",
     "text": [
      "S: 0.6941720204327712\n",
      "n: 707\n"
     ]
    }
   ],
   "source": [
    "import math\n",
    "\n",
    "def E(n):\n",
    "   return math.pi/4 - 0.5 * math.atan(math.pow(n,2)) - (n+1)/((2*math.pow((n+1),4))-2)\n",
    "\n",
    "S = 1/2\n",
    "n = 2\n",
    "\n",
    "while E(n) >= 0.000001:\n",
    "    S += n/(math.pow(n,4)+1)\n",
    "    n += 1\n",
    "\n",
    "print(f\"S: {S}\\nn: {n}\")"
   ]
  },
  {
   "cell_type": "code",
   "execution_count": 50,
   "metadata": {},
   "outputs": [
    {
     "name": "stdout",
     "output_type": "stream",
     "text": [
      "Eredmény: 3.1414971543976273\n"
     ]
    }
   ],
   "source": [
    "import math\n",
    "\n",
    "S = 0\n",
    "n = 1\n",
    "\n",
    "while ((1/n) - (1/(2*(math.pow((n+1), 2))))) > 0.0001:\n",
    "    S += 1/math.pow(n,2)\n",
    "    n += 1\n",
    "    \n",
    "print(f\"Eredmény: {(6*S) ** 0.5}\")"
   ]
  },
  {
   "cell_type": "code",
   "execution_count": 49,
   "metadata": {},
   "outputs": [
    {
     "name": "stdout",
     "output_type": "stream",
     "text": [
      "Eredmény: 3.1415134956839172\n"
     ]
    }
   ],
   "source": [
    "import math\n",
    "\n",
    "S = 0\n",
    "n = 1\n",
    "\n",
    "while ((1/(3*math.pow(n, 3))) - (1/(2*math.pow((n+1),4)))) > 0.0001:\n",
    "    S += 1/math.pow(n,4)\n",
    "    n += 1\n",
    "\n",
    "print(f\"Eredmény: {(90*S)**(1/4)}\")"
   ]
  }
 ],
 "metadata": {
  "kernelspec": {
   "display_name": "usr",
   "language": "python",
   "name": "python3"
  },
  "language_info": {
   "codemirror_mode": {
    "name": "ipython",
    "version": 3
   },
   "file_extension": ".py",
   "mimetype": "text/x-python",
   "name": "python",
   "nbconvert_exporter": "python",
   "pygments_lexer": "ipython3",
   "version": "3.12.6"
  }
 },
 "nbformat": 4,
 "nbformat_minor": 2
}
